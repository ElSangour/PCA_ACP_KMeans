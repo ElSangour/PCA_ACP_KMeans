{
  "cells": [
    {
      "cell_type": "markdown",
      "metadata": {
        "id": "view-in-github",
        "colab_type": "text"
      },
      "source": [
        "<a href=\"https://colab.research.google.com/github/ElSangour/PCA_ACP_KMeans/blob/master/ACP_%26_CAH_%26_k_means.ipynb\" target=\"_parent\"><img src=\"https://colab.research.google.com/assets/colab-badge.svg\" alt=\"Open In Colab\"/></a>"
      ]
    },
    {
      "cell_type": "markdown",
      "metadata": {
        "id": "UEopvm7BkP6w"
      },
      "source": [
        "**Classification automatique de fromages**\n",
        "Ce TP retranscrit une démarche de classification automatique d'un ensemble de fromages (29 observations) décrits par leurs propriétés nutritives (ex. proteines, lipides ..., 9 variables)\n",
        "L'objectif est d'identifier dse groupes de fromages homogènes, partageant des caractéristiques similaires.\n"
      ]
    },
    {
      "cell_type": "code",
      "execution_count": null,
      "metadata": {
        "scrolled": true,
        "id": "0dWYzxzikP61",
        "outputId": "02bbeadc-7ba5-483e-9218-9dae9a25ae4e"
      },
      "outputs": [
        {
          "name": "stdout",
          "output_type": "stream",
          "text": [
            "(29, 9)\n"
          ]
        }
      ],
      "source": [
        "# importation des données\n",
        "import numpy as np\n",
        "import pandas as pd\n",
        "import matplotlib.pyplot as plt\n",
        "\n",
        "fromage = pd.read_table(\"fromage.txt\", sep=\"\\t\", header=0, index_col=0)\n",
        "\n",
        "# dimension des données\n",
        "print(fromage.shape)"
      ]
    },
    {
      "cell_type": "code",
      "execution_count": null,
      "metadata": {
        "scrolled": true,
        "id": "hzv0O-rFkP61",
        "outputId": "8539c559-6fdb-423b-d99e-99648e245b71"
      },
      "outputs": [
        {
          "data": {
            "text/html": [
              "<div>\n",
              "<style scoped>\n",
              "    .dataframe tbody tr th:only-of-type {\n",
              "        vertical-align: middle;\n",
              "    }\n",
              "\n",
              "    .dataframe tbody tr th {\n",
              "        vertical-align: top;\n",
              "    }\n",
              "\n",
              "    .dataframe thead th {\n",
              "        text-align: right;\n",
              "    }\n",
              "</style>\n",
              "<table border=\"1\" class=\"dataframe\">\n",
              "  <thead>\n",
              "    <tr style=\"text-align: right;\">\n",
              "      <th></th>\n",
              "      <th>calories</th>\n",
              "      <th>sodium</th>\n",
              "      <th>calcium</th>\n",
              "      <th>lipides</th>\n",
              "      <th>retinol</th>\n",
              "      <th>folates</th>\n",
              "      <th>proteines</th>\n",
              "      <th>cholesterol</th>\n",
              "      <th>magnesium</th>\n",
              "    </tr>\n",
              "    <tr>\n",
              "      <th>Fromages</th>\n",
              "      <th></th>\n",
              "      <th></th>\n",
              "      <th></th>\n",
              "      <th></th>\n",
              "      <th></th>\n",
              "      <th></th>\n",
              "      <th></th>\n",
              "      <th></th>\n",
              "      <th></th>\n",
              "    </tr>\n",
              "  </thead>\n",
              "  <tbody>\n",
              "    <tr>\n",
              "      <th>CarredelEst</th>\n",
              "      <td>314</td>\n",
              "      <td>353.5</td>\n",
              "      <td>72.6</td>\n",
              "      <td>26.3</td>\n",
              "      <td>51.6</td>\n",
              "      <td>30.3</td>\n",
              "      <td>21.0</td>\n",
              "      <td>70</td>\n",
              "      <td>20</td>\n",
              "    </tr>\n",
              "    <tr>\n",
              "      <th>Babybel</th>\n",
              "      <td>314</td>\n",
              "      <td>238.0</td>\n",
              "      <td>209.8</td>\n",
              "      <td>25.1</td>\n",
              "      <td>63.7</td>\n",
              "      <td>6.4</td>\n",
              "      <td>22.6</td>\n",
              "      <td>70</td>\n",
              "      <td>27</td>\n",
              "    </tr>\n",
              "    <tr>\n",
              "      <th>Beaufort</th>\n",
              "      <td>401</td>\n",
              "      <td>112.0</td>\n",
              "      <td>259.4</td>\n",
              "      <td>33.3</td>\n",
              "      <td>54.9</td>\n",
              "      <td>1.2</td>\n",
              "      <td>26.6</td>\n",
              "      <td>120</td>\n",
              "      <td>41</td>\n",
              "    </tr>\n",
              "    <tr>\n",
              "      <th>Bleu</th>\n",
              "      <td>342</td>\n",
              "      <td>336.0</td>\n",
              "      <td>211.1</td>\n",
              "      <td>28.9</td>\n",
              "      <td>37.1</td>\n",
              "      <td>27.5</td>\n",
              "      <td>20.2</td>\n",
              "      <td>90</td>\n",
              "      <td>27</td>\n",
              "    </tr>\n",
              "    <tr>\n",
              "      <th>Camembert</th>\n",
              "      <td>264</td>\n",
              "      <td>314.0</td>\n",
              "      <td>215.9</td>\n",
              "      <td>19.5</td>\n",
              "      <td>103.0</td>\n",
              "      <td>36.4</td>\n",
              "      <td>23.4</td>\n",
              "      <td>60</td>\n",
              "      <td>20</td>\n",
              "    </tr>\n",
              "  </tbody>\n",
              "</table>\n",
              "</div>"
            ],
            "text/plain": [
              "             calories  sodium  calcium  lipides  retinol  folates  proteines  \\\n",
              "Fromages                                                                       \n",
              "CarredelEst       314   353.5     72.6     26.3     51.6     30.3       21.0   \n",
              "Babybel           314   238.0    209.8     25.1     63.7      6.4       22.6   \n",
              "Beaufort          401   112.0    259.4     33.3     54.9      1.2       26.6   \n",
              "Bleu              342   336.0    211.1     28.9     37.1     27.5       20.2   \n",
              "Camembert         264   314.0    215.9     19.5    103.0     36.4       23.4   \n",
              "\n",
              "             cholesterol  magnesium  \n",
              "Fromages                             \n",
              "CarredelEst           70         20  \n",
              "Babybel               70         27  \n",
              "Beaufort             120         41  \n",
              "Bleu                  90         27  \n",
              "Camembert             60         20  "
            ]
          },
          "execution_count": 2,
          "metadata": {},
          "output_type": "execute_result"
        }
      ],
      "source": [
        "fromage.head()"
      ]
    },
    {
      "cell_type": "code",
      "execution_count": null,
      "metadata": {
        "id": "pVKx9njHkP63",
        "outputId": "e05422d5-508c-4424-d23b-89ae6555cba3"
      },
      "outputs": [
        {
          "data": {
            "image/png": "[encoded data removed]",
            "text/plain": [
              "<Figure size 640x480 with 1 Axes>"
            ]
          },
          "metadata": {},
          "output_type": "display_data"
        }
      ],
      "source": [
        "from sklearn.preprocessing import StandardScaler\n",
        "ss = StandardScaler()\n",
        "Xss = ss.fit_transform(fromage)\n",
        "matrice_covariance = np.cov(Xss.T)\n",
        "matrice_covariance\n",
        "from numpy.linalg import eig\n",
        "\n",
        "valeurs_propres, vecteurs_propres = eig(matrice_covariance)\n",
        "valeurs_propres\n",
        "vecteurs_propres\n",
        "somme = valeurs_propres.sum()\n",
        "plt.bar(range(1,10),(valeurs_propres/somme)*100)\n",
        "somme_cumulative = np.cumsum((valeurs_propres/somme)*100)\n",
        "plt.step(range(1,10),somme_cumulative)\n",
        "plt.grid()"
      ]
    },
    {
      "cell_type": "code",
      "execution_count": null,
      "metadata": {
        "scrolled": true,
        "id": "sdknOqA_kP63",
        "outputId": "5d9973d5-c885-436f-88cc-02f11df03b7f"
      },
      "outputs": [
        {
          "name": "stdout",
          "output_type": "stream",
          "text": [
            "Pourcentage de variance expliquée : \n",
            "[0.57593009 0.29003718]\n",
            "Composantes principales : \n",
            "[[-0.60696398 -0.74938177 -0.18992177 -0.05403951 -0.00769672  0.01326533\n",
            "  -0.03772163 -0.16612827 -0.04212369]\n",
            " [ 0.47037398 -0.585205    0.61863398  0.0340537  -0.0826114  -0.08231479\n",
            "   0.04729289  0.16483443  0.09699691]]\n"
          ]
        },
        {
          "data": {
            "text/plain": [
              "<matplotlib.collections.PathCollection at 0x1f90c663d10>"
            ]
          },
          "execution_count": 4,
          "metadata": {},
          "output_type": "execute_result"
        },
        {
          "data": {
            "image/png": "[encoded data removed]",
            "text/plain": [
              "<Figure size 640x480 with 1 Axes>"
            ]
          },
          "metadata": {},
          "output_type": "display_data"
        }
      ],
      "source": [
        "from sklearn.decomposition import PCA\n",
        "pca = PCA(n_components=2)\n",
        "pca.fit(fromage)\n",
        "\n",
        "print(\"Pourcentage de variance expliquée : \")\n",
        "print(pca.explained_variance_ratio_)\n",
        "print(\"Composantes principales : \")\n",
        "print(pca.components_)\n",
        "\n",
        "\n",
        "\n",
        "Z = pca.transform(fromage)\n",
        "Z.shape\n",
        "plt.scatter(Z[:,0], Z[:,1])"
      ]
    },
    {
      "cell_type": "markdown",
      "metadata": {
        "id": "nknp_Uz6kP64"
      },
      "source": [
        "## Classification Ascendante Hiérarchique (CAH)\n",
        "Utilisation du package \"scipy\""
      ]
    },
    {
      "cell_type": "code",
      "execution_count": null,
      "metadata": {
        "scrolled": true,
        "id": "eQLBZ1t9kP64",
        "outputId": "6f32379d-bd17-4cda-c7fa-a0b1c35044b1"
      },
      "outputs": [
        {
          "data": {
            "image/png": "[encoded data removed]",
            "text/plain": [
              "<Figure size 640x480 with 1 Axes>"
            ]
          },
          "metadata": {},
          "output_type": "display_data"
        }
      ],
      "source": [
        "# librairies pour la CAH\n",
        "from matplotlib import pyplot as plt\n",
        "from scipy.cluster.hierarchy import dendrogram, linkage\n",
        "from sklearn.preprocessing import StandardScaler\n",
        "ss = StandardScaler()\n",
        "fromage_cr = ss.fit_transform(fromage)\n",
        "\n",
        "# générer la matrice des liens\n",
        "Z = linkage(fromage_cr,method='ward', metric='euclidean')\n",
        "\n",
        "Z.shape\n",
        "#affichage du dendogramme\n",
        "plt.title(\"CAH\")\n",
        "dendrogram(Z, color_threshold=0)\n",
        "plt.show()\n"
      ]
    },
    {
      "cell_type": "code",
      "execution_count": null,
      "metadata": {
        "id": "bDCRAKANkP65",
        "outputId": "d0cb7a40-8f5a-45e5-e809-f0c17247ffbc"
      },
      "outputs": [
        {
          "data": {
            "text/plain": [
              "(28, 4)"
            ]
          },
          "execution_count": 6,
          "metadata": {},
          "output_type": "execute_result"
        }
      ],
      "source": [
        "Z.shape"
      ]
    },
    {
      "cell_type": "code",
      "execution_count": null,
      "metadata": {
        "id": "nH3vo0oKkP65",
        "outputId": "2a672219-c169-4004-d15a-a0f894ba8a77"
      },
      "outputs": [
        {
          "data": {
            "text/plain": [
              "Index(['CarredelEst', 'Babybel', 'Beaufort', 'Bleu', 'Camembert', 'Cantal',\n",
              "       'Chabichou', 'Chaource', 'Cheddar', 'Comte', 'Coulomniers', 'Edam',\n",
              "       'Emmental', 'Fr.chevrepatemolle', 'Fr.fondu.45', 'Fr.frais20nat.',\n",
              "       'Fr.frais40nat.', 'Maroilles', 'Morbier', 'Parmesan', 'Petitsuisse40',\n",
              "       'PontlEveque', 'Pyrenees', 'Reblochon', 'Rocquefort', 'SaintPaulin',\n",
              "       'Tome', 'Vacherin', 'Yaourtlaitent.nat.'],\n",
              "      dtype='object', name='Fromages')"
            ]
          },
          "execution_count": 7,
          "metadata": {},
          "output_type": "execute_result"
        }
      ],
      "source": [
        "fromage.index"
      ]
    },
    {
      "cell_type": "markdown",
      "metadata": {
        "id": "vBkxcQQ0kP65"
      },
      "source": [
        "Le dendrogramme \"suggère\" un découpage en 4 groupes.\n",
        "On remarque qu'une classe de fromages, les \"fromages frais\" (tout à gauche), se démarque fortement des autres points qu'on aurait pu envisager aussi un découpage en 2 groupes seulement."
      ]
    },
    {
      "cell_type": "markdown",
      "metadata": {
        "id": "df31x7yokP65"
      },
      "source": [
        "### CAH : Découpage en classes-Matérialisation des groupes"
      ]
    },
    {
      "cell_type": "code",
      "execution_count": null,
      "metadata": {
        "id": "DiM_P9iXkP66",
        "outputId": "98f227c7-cd52-4be2-b364-3317a1b816d5"
      },
      "outputs": [
        {
          "data": {
            "image/png": "[encoded data removed]",
            "text/plain": [
              "<Figure size 640x480 with 1 Axes>"
            ]
          },
          "metadata": {},
          "output_type": "display_data"
        }
      ],
      "source": [
        "# matérialisation des 4 classes (hauteur t=7)\n",
        "plt.title('CAH avec matérialisation des 4 classes')\n",
        "dendrogram(Z, orientation='top', color_threshold=7)\n",
        "plt.show()"
      ]
    },
    {
      "cell_type": "code",
      "execution_count": null,
      "metadata": {
        "scrolled": true,
        "id": "eCZMyLZOkP66",
        "outputId": "4dbbb493-7b34-40c8-ac1c-240e225fa267"
      },
      "outputs": [
        {
          "name": "stdout",
          "output_type": "stream",
          "text": [
            "             Fromages\n",
            "1  Yaourtlaitent.nat.\n",
            "1      Fr.frais20nat.\n",
            "1       Petitsuisse40\n",
            "1      Fr.frais40nat.\n",
            "2  Fr.chevrepatemolle\n",
            "2           Camembert\n",
            "2           Chabichou\n",
            "2            Chaource\n",
            "3            Emmental\n",
            "3            Parmesan\n",
            "3            Beaufort\n",
            "3               Comte\n",
            "4            Pyrenees\n",
            "4         PontlEveque\n",
            "4          Rocquefort\n",
            "4         SaintPaulin\n",
            "4                Tome\n",
            "4           Reblochon\n",
            "4         CarredelEst\n",
            "4           Maroilles\n",
            "4            Vacherin\n",
            "4                Edam\n",
            "4         Coulomniers\n",
            "4             Cheddar\n",
            "4              Cantal\n",
            "4                Bleu\n",
            "4             Babybel\n",
            "4             Morbier\n",
            "4         Fr.fondu.45\n"
          ]
        }
      ],
      "source": [
        "#Découpage à la hauteur t=7 ==> identification de 4 groupes obtenus\n",
        "from scipy.cluster.hierarchy import fcluster\n",
        "groupes_cah = fcluster(Z, t=7, criterion='distance')\n",
        "#print(groupes_cah)\n",
        "\n",
        "#index triés des groupes\n",
        "import numpy as np\n",
        "idg = np.argsort(groupes_cah)\n",
        "\n",
        "#Affichage des observations et leurs groupes\n",
        "import pandas\n",
        "print(pandas.DataFrame(fromage.index[idg],groupes_cah[idg]))\n"
      ]
    },
    {
      "cell_type": "markdown",
      "metadata": {
        "id": "RX1glfEVkP66"
      },
      "source": [
        "## Méthodes des centres mobiles : K-means"
      ]
    },
    {
      "cell_type": "code",
      "execution_count": null,
      "metadata": {
        "id": "7KfgzIsokP67",
        "outputId": "9f8b7212-51ef-495f-a6c7-3c46409d5107"
      },
      "outputs": [
        {
          "name": "stderr",
          "output_type": "stream",
          "text": [
            "C:\\Users\\rymbe\\anaconda3\\Lib\\site-packages\\sklearn\\cluster\\_kmeans.py:1412: FutureWarning: The default value of `n_init` will change from 10 to 'auto' in 1.4. Set the value of `n_init` explicitly to suppress the warning\n",
            "  super()._check_params_vs_input(X, default_n_init=10)\n",
            "C:\\Users\\rymbe\\anaconda3\\Lib\\site-packages\\sklearn\\cluster\\_kmeans.py:1436: UserWarning: KMeans is known to have a memory leak on Windows with MKL, when there are less chunks than available threads. You can avoid it by setting the environment variable OMP_NUM_THREADS=1.\n",
            "  warnings.warn(\n"
          ]
        },
        {
          "name": "stdout",
          "output_type": "stream",
          "text": [
            "             Fromages\n",
            "0            Beaufort\n",
            "0            Parmesan\n",
            "0               Comte\n",
            "0                Edam\n",
            "0            Emmental\n",
            "1         CarredelEst\n",
            "1           Camembert\n",
            "1           Chabichou\n",
            "1            Chaource\n",
            "1         Coulomniers\n",
            "1  Fr.chevrepatemolle\n",
            "2       Petitsuisse40\n",
            "2      Fr.frais40nat.\n",
            "2      Fr.frais20nat.\n",
            "2  Yaourtlaitent.nat.\n",
            "3             Cheddar\n",
            "3              Cantal\n",
            "3           Maroilles\n",
            "3             Morbier\n",
            "3                Bleu\n",
            "3             Babybel\n",
            "3         PontlEveque\n",
            "3            Pyrenees\n",
            "3           Reblochon\n",
            "3          Rocquefort\n",
            "3         SaintPaulin\n",
            "3                Tome\n",
            "3            Vacherin\n",
            "3         Fr.fondu.45\n",
            "[[5.21699713 2.22366092 5.52563871 2.91923811]\n",
            " [2.79338133 3.0178739  5.19015189 0.74374718]\n",
            " [1.14539172 5.16141204 7.50534896 2.85539991]\n",
            " [3.90039468 3.23696124 6.12458901 2.10536305]\n",
            " [5.1027633  1.93343014 5.40377152 3.54292429]\n",
            " [2.20069332 4.02486207 6.29601131 1.19391692]\n",
            " [4.53017038 1.77869718 5.92595629 3.38720801]\n",
            " [5.09064158 1.03237227 5.55487006 3.45802005]\n",
            " [2.29131322 3.74803439 6.82455372 1.95305264]\n",
            " [1.35227289 5.4424737  7.84252968 3.42031134]\n",
            " [4.74937695 1.95795563 4.84286038 2.48915384]\n",
            " [1.34428719 4.22922422 6.12567693 2.25403853]\n",
            " [0.90212763 5.52630163 7.47787998 3.39604145]\n",
            " [7.09387676 3.09730277 5.01044821 5.54292312]\n",
            " [4.44924466 2.837017   5.28233144 1.88749301]\n",
            " [7.60942068 5.33113973 0.682889   6.00270259]\n",
            " [7.3223388  4.5471731  1.00738319 5.60590975]\n",
            " [2.4532874  4.19758324 6.46351268 1.52552562]\n",
            " [2.50066762 3.47104401 6.06067377 0.6514557 ]\n",
            " [2.11236126 5.23422932 7.94344639 3.59516018]\n",
            " [7.13235133 4.37575251 1.21455139 5.39884861]\n",
            " [3.51801823 3.08206033 4.69330459 1.26131038]\n",
            " [2.80940396 3.27948183 5.71102419 0.71278327]\n",
            " [2.93523437 2.73578068 5.31181084 0.80560526]\n",
            " [4.22294133 3.01760541 6.81164759 2.18158819]\n",
            " [2.67188675 3.47187566 5.12355504 1.36713154]\n",
            " [3.66952718 2.73493702 5.25486505 1.26085334]\n",
            " [2.63290951 3.79074172 5.27181198 1.50249064]\n",
            " [7.45711265 6.08675576 1.92880158 5.93946504]]\n"
          ]
        },
        {
          "data": {
            "text/html": [
              "<div>\n",
              "<style scoped>\n",
              "    .dataframe tbody tr th:only-of-type {\n",
              "        vertical-align: middle;\n",
              "    }\n",
              "\n",
              "    .dataframe tbody tr th {\n",
              "        vertical-align: top;\n",
              "    }\n",
              "\n",
              "    .dataframe thead th {\n",
              "        text-align: right;\n",
              "    }\n",
              "</style>\n",
              "<table border=\"1\" class=\"dataframe\">\n",
              "  <thead>\n",
              "    <tr style=\"text-align: right;\">\n",
              "      <th>col_0</th>\n",
              "      <th>0</th>\n",
              "      <th>1</th>\n",
              "      <th>2</th>\n",
              "      <th>3</th>\n",
              "    </tr>\n",
              "    <tr>\n",
              "      <th>row_0</th>\n",
              "      <th></th>\n",
              "      <th></th>\n",
              "      <th></th>\n",
              "      <th></th>\n",
              "    </tr>\n",
              "  </thead>\n",
              "  <tbody>\n",
              "    <tr>\n",
              "      <th>1</th>\n",
              "      <td>0</td>\n",
              "      <td>0</td>\n",
              "      <td>4</td>\n",
              "      <td>0</td>\n",
              "    </tr>\n",
              "    <tr>\n",
              "      <th>2</th>\n",
              "      <td>0</td>\n",
              "      <td>4</td>\n",
              "      <td>0</td>\n",
              "      <td>0</td>\n",
              "    </tr>\n",
              "    <tr>\n",
              "      <th>3</th>\n",
              "      <td>4</td>\n",
              "      <td>0</td>\n",
              "      <td>0</td>\n",
              "      <td>0</td>\n",
              "    </tr>\n",
              "    <tr>\n",
              "      <th>4</th>\n",
              "      <td>1</td>\n",
              "      <td>2</td>\n",
              "      <td>0</td>\n",
              "      <td>14</td>\n",
              "    </tr>\n",
              "  </tbody>\n",
              "</table>\n",
              "</div>"
            ],
            "text/plain": [
              "col_0  0  1  2   3\n",
              "row_0             \n",
              "1      0  0  4   0\n",
              "2      0  4  0   0\n",
              "3      4  0  0   0\n",
              "4      1  2  0  14"
            ]
          },
          "execution_count": 10,
          "metadata": {},
          "output_type": "execute_result"
        }
      ],
      "source": [
        "#K-means sur les données centrées et réduites\n",
        "from sklearn import cluster\n",
        "kmeans = cluster.KMeans(n_clusters=4)\n",
        "kmeans.fit(fromage_cr)\n",
        "\n",
        "#index triés des groupes\n",
        "idk = np.argsort(kmeans.labels_)\n",
        "\n",
        "#affichage des observations et leurs groupes\n",
        "print(pandas.DataFrame(fromage.index[idk],kmeans.labels_[idk]))\n",
        "\n",
        "#distance aux centres de classes des observations\n",
        "print(kmeans.transform(fromage_cr))\n",
        "\n",
        "#correspondance avec les groupes de la CAH\n",
        "pandas.crosstab(groupes_cah,kmeans.labels_)"
      ]
    },
    {
      "cell_type": "markdown",
      "metadata": {
        "id": "SO_CZbA3kP67"
      },
      "source": [
        "Le groupe 1 de la CAh coincide avec avec le groupe 2 des K-means.\n",
        "Le groupe 2 de la CAh coincide avec avec le groupe 1 des K-means.\n",
        "il y a certes des correspondances, mais elle ne sont pas exactes."
      ]
    },
    {
      "cell_type": "markdown",
      "metadata": {
        "id": "-zDzWz74kP67"
      },
      "source": [
        "KMEANS, à la différence de la CAH, ne fournit pas d’outils d’aide à la détection du nombre de\n",
        "classes. Nous devons les programmer sous Python ou utiliser des procédures proposées par\n",
        "des packages dédiés. Le schéma est souvent le même : on fait varier le nombre de groupes et\n",
        "on surveille l’évolution d’un indicateur de qualité de la solution c. à d. l’aptitude des individus à\n",
        "être plus proches de ses congénères du même groupe que des individus des autres groupes.\n",
        "Dans ce qui suit, on calcule la métrique «\n",
        "silhouette » pour différents nombres de groupes issus\n",
        "de la méthode des centres mobiles."
      ]
    },
    {
      "cell_type": "code",
      "execution_count": null,
      "metadata": {
        "id": "0uIfNd4FkP67",
        "outputId": "a4c4710e-327f-4c3d-91b1-e60bf00b7680"
      },
      "outputs": [
        {
          "name": "stderr",
          "output_type": "stream",
          "text": [
            "C:\\Users\\rymbe\\anaconda3\\Lib\\site-packages\\sklearn\\cluster\\_kmeans.py:1412: FutureWarning: The default value of `n_init` will change from 10 to 'auto' in 1.4. Set the value of `n_init` explicitly to suppress the warning\n",
            "  super()._check_params_vs_input(X, default_n_init=10)\n",
            "C:\\Users\\rymbe\\anaconda3\\Lib\\site-packages\\sklearn\\cluster\\_kmeans.py:1436: UserWarning: KMeans is known to have a memory leak on Windows with MKL, when there are less chunks than available threads. You can avoid it by setting the environment variable OMP_NUM_THREADS=1.\n",
            "  warnings.warn(\n",
            "C:\\Users\\rymbe\\anaconda3\\Lib\\site-packages\\sklearn\\cluster\\_kmeans.py:1412: FutureWarning: The default value of `n_init` will change from 10 to 'auto' in 1.4. Set the value of `n_init` explicitly to suppress the warning\n",
            "  super()._check_params_vs_input(X, default_n_init=10)\n",
            "C:\\Users\\rymbe\\anaconda3\\Lib\\site-packages\\sklearn\\cluster\\_kmeans.py:1436: UserWarning: KMeans is known to have a memory leak on Windows with MKL, when there are less chunks than available threads. You can avoid it by setting the environment variable OMP_NUM_THREADS=1.\n",
            "  warnings.warn(\n",
            "C:\\Users\\rymbe\\anaconda3\\Lib\\site-packages\\sklearn\\cluster\\_kmeans.py:1412: FutureWarning: The default value of `n_init` will change from 10 to 'auto' in 1.4. Set the value of `n_init` explicitly to suppress the warning\n",
            "  super()._check_params_vs_input(X, default_n_init=10)\n",
            "C:\\Users\\rymbe\\anaconda3\\Lib\\site-packages\\sklearn\\cluster\\_kmeans.py:1436: UserWarning: KMeans is known to have a memory leak on Windows with MKL, when there are less chunks than available threads. You can avoid it by setting the environment variable OMP_NUM_THREADS=1.\n",
            "  warnings.warn(\n",
            "C:\\Users\\rymbe\\anaconda3\\Lib\\site-packages\\sklearn\\cluster\\_kmeans.py:1412: FutureWarning: The default value of `n_init` will change from 10 to 'auto' in 1.4. Set the value of `n_init` explicitly to suppress the warning\n",
            "  super()._check_params_vs_input(X, default_n_init=10)\n",
            "C:\\Users\\rymbe\\anaconda3\\Lib\\site-packages\\sklearn\\cluster\\_kmeans.py:1436: UserWarning: KMeans is known to have a memory leak on Windows with MKL, when there are less chunks than available threads. You can avoid it by setting the environment variable OMP_NUM_THREADS=1.\n",
            "  warnings.warn(\n",
            "C:\\Users\\rymbe\\anaconda3\\Lib\\site-packages\\sklearn\\cluster\\_kmeans.py:1412: FutureWarning: The default value of `n_init` will change from 10 to 'auto' in 1.4. Set the value of `n_init` explicitly to suppress the warning\n",
            "  super()._check_params_vs_input(X, default_n_init=10)\n",
            "C:\\Users\\rymbe\\anaconda3\\Lib\\site-packages\\sklearn\\cluster\\_kmeans.py:1436: UserWarning: KMeans is known to have a memory leak on Windows with MKL, when there are less chunks than available threads. You can avoid it by setting the environment variable OMP_NUM_THREADS=1.\n",
            "  warnings.warn(\n",
            "C:\\Users\\rymbe\\anaconda3\\Lib\\site-packages\\sklearn\\cluster\\_kmeans.py:1412: FutureWarning: The default value of `n_init` will change from 10 to 'auto' in 1.4. Set the value of `n_init` explicitly to suppress the warning\n",
            "  super()._check_params_vs_input(X, default_n_init=10)\n",
            "C:\\Users\\rymbe\\anaconda3\\Lib\\site-packages\\sklearn\\cluster\\_kmeans.py:1436: UserWarning: KMeans is known to have a memory leak on Windows with MKL, when there are less chunks than available threads. You can avoid it by setting the environment variable OMP_NUM_THREADS=1.\n",
            "  warnings.warn(\n",
            "C:\\Users\\rymbe\\anaconda3\\Lib\\site-packages\\sklearn\\cluster\\_kmeans.py:1412: FutureWarning: The default value of `n_init` will change from 10 to 'auto' in 1.4. Set the value of `n_init` explicitly to suppress the warning\n",
            "  super()._check_params_vs_input(X, default_n_init=10)\n",
            "C:\\Users\\rymbe\\anaconda3\\Lib\\site-packages\\sklearn\\cluster\\_kmeans.py:1436: UserWarning: KMeans is known to have a memory leak on Windows with MKL, when there are less chunks than available threads. You can avoid it by setting the environment variable OMP_NUM_THREADS=1.\n",
            "  warnings.warn(\n",
            "C:\\Users\\rymbe\\anaconda3\\Lib\\site-packages\\sklearn\\cluster\\_kmeans.py:1412: FutureWarning: The default value of `n_init` will change from 10 to 'auto' in 1.4. Set the value of `n_init` explicitly to suppress the warning\n",
            "  super()._check_params_vs_input(X, default_n_init=10)\n",
            "C:\\Users\\rymbe\\anaconda3\\Lib\\site-packages\\sklearn\\cluster\\_kmeans.py:1436: UserWarning: KMeans is known to have a memory leak on Windows with MKL, when there are less chunks than available threads. You can avoid it by setting the environment variable OMP_NUM_THREADS=1.\n",
            "  warnings.warn(\n",
            "C:\\Users\\rymbe\\anaconda3\\Lib\\site-packages\\sklearn\\cluster\\_kmeans.py:1412: FutureWarning: The default value of `n_init` will change from 10 to 'auto' in 1.4. Set the value of `n_init` explicitly to suppress the warning\n",
            "  super()._check_params_vs_input(X, default_n_init=10)\n",
            "C:\\Users\\rymbe\\anaconda3\\Lib\\site-packages\\sklearn\\cluster\\_kmeans.py:1436: UserWarning: KMeans is known to have a memory leak on Windows with MKL, when there are less chunks than available threads. You can avoid it by setting the environment variable OMP_NUM_THREADS=1.\n",
            "  warnings.warn(\n"
          ]
        },
        {
          "name": "stdout",
          "output_type": "stream",
          "text": [
            "[0.48626255 0.36025261 0.34540073 0.31111448 0.27280181 0.25359616\n",
            " 0.23495265 0.24384669 0.21147739]\n"
          ]
        },
        {
          "data": {
            "image/png": "[encoded data removed]",
            "text/plain": [
              "<Figure size 640x480 with 1 Axes>"
            ]
          },
          "metadata": {},
          "output_type": "display_data"
        }
      ],
      "source": [
        "#librairie pour évaluation des partitions\n",
        "from sklearn import metrics\n",
        "#utilisation de la métrique \"silhouette\"\n",
        "#faire varier le nombre de clusters de 2 à 10\n",
        "res= np.arange(9, dtype =\"double\")\n",
        "for k in np.arange(9):\n",
        "    km = cluster.KMeans(n_clusters=k+2)\n",
        "    km.fit(fromage_cr)\n",
        "    res[k] = metrics.silhouette_score(fromage_cr,km.labels_)\n",
        "print(res)\n",
        "\n",
        "#graphique\n",
        "import matplotlib.pyplot as plt\n",
        "plt.title(\"Sihouette\")\n",
        "plt.xlabel(\"# of clusters\")\n",
        "plt.plot(np.arange(2,11,1),res)\n",
        "plt.show()"
      ]
    }
  ],
  "metadata": {
    "kernelspec": {
      "display_name": "Python 3 (ipykernel)",
      "language": "python",
      "name": "python3"
    },
    "language_info": {
      "codemirror_mode": {
        "name": "ipython",
        "version": 3
      },
      "file_extension": ".py",
      "mimetype": "text/x-python",
      "name": "python",
      "nbconvert_exporter": "python",
      "pygments_lexer": "ipython3",
      "version": "3.11.5"
    },
    "colab": {
      "provenance": [],
      "include_colab_link": true
    }
  },
  "nbformat": 4,
  "nbformat_minor": 0
}